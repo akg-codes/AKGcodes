{
 "cells": [
  {
   "cell_type": "markdown",
   "metadata": {},
   "source": [
    "A Linear regression implementation code for predicting VWAP price of RELIANCE. data taken from yahoo finance."
   ]
  },
  {
   "cell_type": "code",
   "execution_count": 107,
   "metadata": {},
   "outputs": [],
   "source": [
    "import numpy as np\n",
    "import pandas as pd         \n",
    "import matplotlib.pyplot as plt"
   ]
  },
  {
   "cell_type": "code",
   "execution_count": 108,
   "metadata": {},
   "outputs": [
    {
     "data": {
      "text/html": [
       "<div>\n",
       "<style scoped>\n",
       "    .dataframe tbody tr th:only-of-type {\n",
       "        vertical-align: middle;\n",
       "    }\n",
       "\n",
       "    .dataframe tbody tr th {\n",
       "        vertical-align: top;\n",
       "    }\n",
       "\n",
       "    .dataframe thead th {\n",
       "        text-align: right;\n",
       "    }\n",
       "</style>\n",
       "<table border=\"1\" class=\"dataframe\">\n",
       "  <thead>\n",
       "    <tr style=\"text-align: right;\">\n",
       "      <th></th>\n",
       "      <th>Date</th>\n",
       "      <th>Symbol</th>\n",
       "      <th>Series</th>\n",
       "      <th>Prev Close</th>\n",
       "      <th>Open</th>\n",
       "      <th>High</th>\n",
       "      <th>Low</th>\n",
       "      <th>Last</th>\n",
       "      <th>Close</th>\n",
       "      <th>VWAP</th>\n",
       "      <th>Volume</th>\n",
       "      <th>Turnover</th>\n",
       "      <th>Trades</th>\n",
       "      <th>Deliverable Volume</th>\n",
       "      <th>%Deliverble</th>\n",
       "    </tr>\n",
       "  </thead>\n",
       "  <tbody>\n",
       "    <tr>\n",
       "      <th>0</th>\n",
       "      <td>2000-01-03</td>\n",
       "      <td>RELIANCE</td>\n",
       "      <td>EQ</td>\n",
       "      <td>233.05</td>\n",
       "      <td>237.50</td>\n",
       "      <td>251.70</td>\n",
       "      <td>237.50</td>\n",
       "      <td>251.70</td>\n",
       "      <td>251.70</td>\n",
       "      <td>249.37</td>\n",
       "      <td>4456424</td>\n",
       "      <td>1.111319e+14</td>\n",
       "      <td>NaN</td>\n",
       "      <td>NaN</td>\n",
       "      <td>NaN</td>\n",
       "    </tr>\n",
       "    <tr>\n",
       "      <th>1</th>\n",
       "      <td>2000-01-04</td>\n",
       "      <td>RELIANCE</td>\n",
       "      <td>EQ</td>\n",
       "      <td>251.70</td>\n",
       "      <td>258.40</td>\n",
       "      <td>271.85</td>\n",
       "      <td>251.30</td>\n",
       "      <td>271.85</td>\n",
       "      <td>271.85</td>\n",
       "      <td>263.52</td>\n",
       "      <td>9487878</td>\n",
       "      <td>2.500222e+14</td>\n",
       "      <td>NaN</td>\n",
       "      <td>NaN</td>\n",
       "      <td>NaN</td>\n",
       "    </tr>\n",
       "    <tr>\n",
       "      <th>2</th>\n",
       "      <td>2000-01-05</td>\n",
       "      <td>RELIANCE</td>\n",
       "      <td>EQ</td>\n",
       "      <td>271.85</td>\n",
       "      <td>256.65</td>\n",
       "      <td>287.90</td>\n",
       "      <td>256.65</td>\n",
       "      <td>286.75</td>\n",
       "      <td>282.50</td>\n",
       "      <td>274.79</td>\n",
       "      <td>26833684</td>\n",
       "      <td>7.373697e+14</td>\n",
       "      <td>NaN</td>\n",
       "      <td>NaN</td>\n",
       "      <td>NaN</td>\n",
       "    </tr>\n",
       "    <tr>\n",
       "      <th>3</th>\n",
       "      <td>2000-01-06</td>\n",
       "      <td>RELIANCE</td>\n",
       "      <td>EQ</td>\n",
       "      <td>282.50</td>\n",
       "      <td>289.00</td>\n",
       "      <td>300.70</td>\n",
       "      <td>289.00</td>\n",
       "      <td>293.50</td>\n",
       "      <td>294.35</td>\n",
       "      <td>295.45</td>\n",
       "      <td>15682286</td>\n",
       "      <td>4.633254e+14</td>\n",
       "      <td>NaN</td>\n",
       "      <td>NaN</td>\n",
       "      <td>NaN</td>\n",
       "    </tr>\n",
       "    <tr>\n",
       "      <th>4</th>\n",
       "      <td>2000-01-07</td>\n",
       "      <td>RELIANCE</td>\n",
       "      <td>EQ</td>\n",
       "      <td>294.35</td>\n",
       "      <td>295.00</td>\n",
       "      <td>317.90</td>\n",
       "      <td>293.00</td>\n",
       "      <td>314.50</td>\n",
       "      <td>314.55</td>\n",
       "      <td>308.91</td>\n",
       "      <td>19870977</td>\n",
       "      <td>6.138388e+14</td>\n",
       "      <td>NaN</td>\n",
       "      <td>NaN</td>\n",
       "      <td>NaN</td>\n",
       "    </tr>\n",
       "    <tr>\n",
       "      <th>...</th>\n",
       "      <td>...</td>\n",
       "      <td>...</td>\n",
       "      <td>...</td>\n",
       "      <td>...</td>\n",
       "      <td>...</td>\n",
       "      <td>...</td>\n",
       "      <td>...</td>\n",
       "      <td>...</td>\n",
       "      <td>...</td>\n",
       "      <td>...</td>\n",
       "      <td>...</td>\n",
       "      <td>...</td>\n",
       "      <td>...</td>\n",
       "      <td>...</td>\n",
       "      <td>...</td>\n",
       "    </tr>\n",
       "    <tr>\n",
       "      <th>5199</th>\n",
       "      <td>2020-11-23</td>\n",
       "      <td>RELIANCE</td>\n",
       "      <td>EQ</td>\n",
       "      <td>1899.50</td>\n",
       "      <td>1951.00</td>\n",
       "      <td>1970.00</td>\n",
       "      <td>1926.25</td>\n",
       "      <td>1955.20</td>\n",
       "      <td>1950.70</td>\n",
       "      <td>1952.18</td>\n",
       "      <td>20918665</td>\n",
       "      <td>4.083704e+15</td>\n",
       "      <td>497781.0</td>\n",
       "      <td>5148955.0</td>\n",
       "      <td>0.2461</td>\n",
       "    </tr>\n",
       "    <tr>\n",
       "      <th>5200</th>\n",
       "      <td>2020-11-24</td>\n",
       "      <td>RELIANCE</td>\n",
       "      <td>EQ</td>\n",
       "      <td>1950.70</td>\n",
       "      <td>1964.00</td>\n",
       "      <td>1974.00</td>\n",
       "      <td>1932.00</td>\n",
       "      <td>1971.05</td>\n",
       "      <td>1964.05</td>\n",
       "      <td>1952.11</td>\n",
       "      <td>14277083</td>\n",
       "      <td>2.787044e+15</td>\n",
       "      <td>362587.0</td>\n",
       "      <td>3213843.0</td>\n",
       "      <td>0.2251</td>\n",
       "    </tr>\n",
       "    <tr>\n",
       "      <th>5201</th>\n",
       "      <td>2020-11-25</td>\n",
       "      <td>RELIANCE</td>\n",
       "      <td>EQ</td>\n",
       "      <td>1964.05</td>\n",
       "      <td>1980.00</td>\n",
       "      <td>1992.95</td>\n",
       "      <td>1942.20</td>\n",
       "      <td>1947.50</td>\n",
       "      <td>1947.80</td>\n",
       "      <td>1969.06</td>\n",
       "      <td>15062376</td>\n",
       "      <td>2.965874e+15</td>\n",
       "      <td>356793.0</td>\n",
       "      <td>3040444.0</td>\n",
       "      <td>0.2019</td>\n",
       "    </tr>\n",
       "    <tr>\n",
       "      <th>5202</th>\n",
       "      <td>2020-11-26</td>\n",
       "      <td>RELIANCE</td>\n",
       "      <td>EQ</td>\n",
       "      <td>1947.80</td>\n",
       "      <td>1953.05</td>\n",
       "      <td>1965.00</td>\n",
       "      <td>1930.05</td>\n",
       "      <td>1957.00</td>\n",
       "      <td>1952.60</td>\n",
       "      <td>1946.67</td>\n",
       "      <td>11924527</td>\n",
       "      <td>2.321309e+15</td>\n",
       "      <td>266412.0</td>\n",
       "      <td>3406506.0</td>\n",
       "      <td>0.2857</td>\n",
       "    </tr>\n",
       "    <tr>\n",
       "      <th>5203</th>\n",
       "      <td>2020-11-27</td>\n",
       "      <td>RELIANCE</td>\n",
       "      <td>EQ</td>\n",
       "      <td>1952.60</td>\n",
       "      <td>1940.50</td>\n",
       "      <td>1956.10</td>\n",
       "      <td>1921.40</td>\n",
       "      <td>1940.50</td>\n",
       "      <td>1929.80</td>\n",
       "      <td>1935.45</td>\n",
       "      <td>21845931</td>\n",
       "      <td>4.228164e+15</td>\n",
       "      <td>314085.0</td>\n",
       "      <td>12489338.0</td>\n",
       "      <td>0.5717</td>\n",
       "    </tr>\n",
       "  </tbody>\n",
       "</table>\n",
       "<p>5204 rows × 15 columns</p>\n",
       "</div>"
      ],
      "text/plain": [
       "            Date    Symbol Series  Prev Close     Open     High      Low  \\\n",
       "0     2000-01-03  RELIANCE     EQ      233.05   237.50   251.70   237.50   \n",
       "1     2000-01-04  RELIANCE     EQ      251.70   258.40   271.85   251.30   \n",
       "2     2000-01-05  RELIANCE     EQ      271.85   256.65   287.90   256.65   \n",
       "3     2000-01-06  RELIANCE     EQ      282.50   289.00   300.70   289.00   \n",
       "4     2000-01-07  RELIANCE     EQ      294.35   295.00   317.90   293.00   \n",
       "...          ...       ...    ...         ...      ...      ...      ...   \n",
       "5199  2020-11-23  RELIANCE     EQ     1899.50  1951.00  1970.00  1926.25   \n",
       "5200  2020-11-24  RELIANCE     EQ     1950.70  1964.00  1974.00  1932.00   \n",
       "5201  2020-11-25  RELIANCE     EQ     1964.05  1980.00  1992.95  1942.20   \n",
       "5202  2020-11-26  RELIANCE     EQ     1947.80  1953.05  1965.00  1930.05   \n",
       "5203  2020-11-27  RELIANCE     EQ     1952.60  1940.50  1956.10  1921.40   \n",
       "\n",
       "         Last    Close     VWAP    Volume      Turnover    Trades  \\\n",
       "0      251.70   251.70   249.37   4456424  1.111319e+14       NaN   \n",
       "1      271.85   271.85   263.52   9487878  2.500222e+14       NaN   \n",
       "2      286.75   282.50   274.79  26833684  7.373697e+14       NaN   \n",
       "3      293.50   294.35   295.45  15682286  4.633254e+14       NaN   \n",
       "4      314.50   314.55   308.91  19870977  6.138388e+14       NaN   \n",
       "...       ...      ...      ...       ...           ...       ...   \n",
       "5199  1955.20  1950.70  1952.18  20918665  4.083704e+15  497781.0   \n",
       "5200  1971.05  1964.05  1952.11  14277083  2.787044e+15  362587.0   \n",
       "5201  1947.50  1947.80  1969.06  15062376  2.965874e+15  356793.0   \n",
       "5202  1957.00  1952.60  1946.67  11924527  2.321309e+15  266412.0   \n",
       "5203  1940.50  1929.80  1935.45  21845931  4.228164e+15  314085.0   \n",
       "\n",
       "      Deliverable Volume  %Deliverble  \n",
       "0                    NaN          NaN  \n",
       "1                    NaN          NaN  \n",
       "2                    NaN          NaN  \n",
       "3                    NaN          NaN  \n",
       "4                    NaN          NaN  \n",
       "...                  ...          ...  \n",
       "5199           5148955.0       0.2461  \n",
       "5200           3213843.0       0.2251  \n",
       "5201           3040444.0       0.2019  \n",
       "5202           3406506.0       0.2857  \n",
       "5203          12489338.0       0.5717  \n",
       "\n",
       "[5204 rows x 15 columns]"
      ]
     },
     "execution_count": 108,
     "metadata": {},
     "output_type": "execute_result"
    }
   ],
   "source": [
    "dataset = pd.read_csv(\"./RELIANCE.csv\")\n",
    "dataset #display sample data"
   ]
  },
  {
   "cell_type": "code",
   "execution_count": 109,
   "metadata": {},
   "outputs": [
    {
     "data": {
      "text/plain": [
       "Date                     0\n",
       "Symbol                   0\n",
       "Series                   0\n",
       "Prev Close               0\n",
       "Open                     0\n",
       "High                     0\n",
       "Low                      0\n",
       "Last                     0\n",
       "Close                    0\n",
       "VWAP                     0\n",
       "Volume                   0\n",
       "Turnover                 0\n",
       "Trades                2850\n",
       "Deliverable Volume     514\n",
       "%Deliverble            514\n",
       "dtype: int64"
      ]
     },
     "execution_count": 109,
     "metadata": {},
     "output_type": "execute_result"
    }
   ],
   "source": [
    "dataset.isnull().sum()\n",
    "#finding number of columns which are not useful"
   ]
  },
  {
   "cell_type": "code",
   "execution_count": 110,
   "metadata": {},
   "outputs": [
    {
     "data": {
      "text/html": [
       "<div>\n",
       "<style scoped>\n",
       "    .dataframe tbody tr th:only-of-type {\n",
       "        vertical-align: middle;\n",
       "    }\n",
       "\n",
       "    .dataframe tbody tr th {\n",
       "        vertical-align: top;\n",
       "    }\n",
       "\n",
       "    .dataframe thead th {\n",
       "        text-align: right;\n",
       "    }\n",
       "</style>\n",
       "<table border=\"1\" class=\"dataframe\">\n",
       "  <thead>\n",
       "    <tr style=\"text-align: right;\">\n",
       "      <th></th>\n",
       "      <th>Date</th>\n",
       "      <th>Symbol</th>\n",
       "      <th>Series</th>\n",
       "      <th>Prev Close</th>\n",
       "      <th>Open</th>\n",
       "      <th>High</th>\n",
       "      <th>Low</th>\n",
       "      <th>Last</th>\n",
       "      <th>Close</th>\n",
       "      <th>VWAP</th>\n",
       "      <th>Volume</th>\n",
       "      <th>Turnover</th>\n",
       "      <th>Trades</th>\n",
       "      <th>Deliverable Volume</th>\n",
       "      <th>%Deliverble</th>\n",
       "    </tr>\n",
       "  </thead>\n",
       "  <tbody>\n",
       "    <tr>\n",
       "      <th>2850</th>\n",
       "      <td>2011-06-01</td>\n",
       "      <td>RELIANCE</td>\n",
       "      <td>EQ</td>\n",
       "      <td>951.85</td>\n",
       "      <td>952.00</td>\n",
       "      <td>958.65</td>\n",
       "      <td>943.65</td>\n",
       "      <td>947.50</td>\n",
       "      <td>946.80</td>\n",
       "      <td>947.83</td>\n",
       "      <td>1838452</td>\n",
       "      <td>1.742538e+14</td>\n",
       "      <td>58630.0</td>\n",
       "      <td>901415.0</td>\n",
       "      <td>0.4903</td>\n",
       "    </tr>\n",
       "    <tr>\n",
       "      <th>2851</th>\n",
       "      <td>2011-06-02</td>\n",
       "      <td>RELIANCE</td>\n",
       "      <td>EQ</td>\n",
       "      <td>946.80</td>\n",
       "      <td>936.55</td>\n",
       "      <td>954.70</td>\n",
       "      <td>936.55</td>\n",
       "      <td>952.50</td>\n",
       "      <td>951.05</td>\n",
       "      <td>947.09</td>\n",
       "      <td>2152963</td>\n",
       "      <td>2.039039e+14</td>\n",
       "      <td>63061.0</td>\n",
       "      <td>1066759.0</td>\n",
       "      <td>0.4955</td>\n",
       "    </tr>\n",
       "    <tr>\n",
       "      <th>2852</th>\n",
       "      <td>2011-06-03</td>\n",
       "      <td>RELIANCE</td>\n",
       "      <td>EQ</td>\n",
       "      <td>951.05</td>\n",
       "      <td>960.50</td>\n",
       "      <td>967.00</td>\n",
       "      <td>931.50</td>\n",
       "      <td>936.00</td>\n",
       "      <td>934.60</td>\n",
       "      <td>951.69</td>\n",
       "      <td>4368279</td>\n",
       "      <td>4.157238e+14</td>\n",
       "      <td>128784.0</td>\n",
       "      <td>1035791.0</td>\n",
       "      <td>0.2371</td>\n",
       "    </tr>\n",
       "    <tr>\n",
       "      <th>2853</th>\n",
       "      <td>2011-06-06</td>\n",
       "      <td>RELIANCE</td>\n",
       "      <td>EQ</td>\n",
       "      <td>934.60</td>\n",
       "      <td>934.65</td>\n",
       "      <td>940.80</td>\n",
       "      <td>928.15</td>\n",
       "      <td>938.60</td>\n",
       "      <td>937.75</td>\n",
       "      <td>935.29</td>\n",
       "      <td>1405741</td>\n",
       "      <td>1.314771e+14</td>\n",
       "      <td>43384.0</td>\n",
       "      <td>476631.0</td>\n",
       "      <td>0.3391</td>\n",
       "    </tr>\n",
       "    <tr>\n",
       "      <th>2854</th>\n",
       "      <td>2011-06-07</td>\n",
       "      <td>RELIANCE</td>\n",
       "      <td>EQ</td>\n",
       "      <td>937.75</td>\n",
       "      <td>933.55</td>\n",
       "      <td>960.00</td>\n",
       "      <td>933.55</td>\n",
       "      <td>959.60</td>\n",
       "      <td>958.25</td>\n",
       "      <td>950.55</td>\n",
       "      <td>4025919</td>\n",
       "      <td>3.826839e+14</td>\n",
       "      <td>88703.0</td>\n",
       "      <td>2424958.0</td>\n",
       "      <td>0.6023</td>\n",
       "    </tr>\n",
       "    <tr>\n",
       "      <th>...</th>\n",
       "      <td>...</td>\n",
       "      <td>...</td>\n",
       "      <td>...</td>\n",
       "      <td>...</td>\n",
       "      <td>...</td>\n",
       "      <td>...</td>\n",
       "      <td>...</td>\n",
       "      <td>...</td>\n",
       "      <td>...</td>\n",
       "      <td>...</td>\n",
       "      <td>...</td>\n",
       "      <td>...</td>\n",
       "      <td>...</td>\n",
       "      <td>...</td>\n",
       "      <td>...</td>\n",
       "    </tr>\n",
       "    <tr>\n",
       "      <th>5199</th>\n",
       "      <td>2020-11-23</td>\n",
       "      <td>RELIANCE</td>\n",
       "      <td>EQ</td>\n",
       "      <td>1899.50</td>\n",
       "      <td>1951.00</td>\n",
       "      <td>1970.00</td>\n",
       "      <td>1926.25</td>\n",
       "      <td>1955.20</td>\n",
       "      <td>1950.70</td>\n",
       "      <td>1952.18</td>\n",
       "      <td>20918665</td>\n",
       "      <td>4.083704e+15</td>\n",
       "      <td>497781.0</td>\n",
       "      <td>5148955.0</td>\n",
       "      <td>0.2461</td>\n",
       "    </tr>\n",
       "    <tr>\n",
       "      <th>5200</th>\n",
       "      <td>2020-11-24</td>\n",
       "      <td>RELIANCE</td>\n",
       "      <td>EQ</td>\n",
       "      <td>1950.70</td>\n",
       "      <td>1964.00</td>\n",
       "      <td>1974.00</td>\n",
       "      <td>1932.00</td>\n",
       "      <td>1971.05</td>\n",
       "      <td>1964.05</td>\n",
       "      <td>1952.11</td>\n",
       "      <td>14277083</td>\n",
       "      <td>2.787044e+15</td>\n",
       "      <td>362587.0</td>\n",
       "      <td>3213843.0</td>\n",
       "      <td>0.2251</td>\n",
       "    </tr>\n",
       "    <tr>\n",
       "      <th>5201</th>\n",
       "      <td>2020-11-25</td>\n",
       "      <td>RELIANCE</td>\n",
       "      <td>EQ</td>\n",
       "      <td>1964.05</td>\n",
       "      <td>1980.00</td>\n",
       "      <td>1992.95</td>\n",
       "      <td>1942.20</td>\n",
       "      <td>1947.50</td>\n",
       "      <td>1947.80</td>\n",
       "      <td>1969.06</td>\n",
       "      <td>15062376</td>\n",
       "      <td>2.965874e+15</td>\n",
       "      <td>356793.0</td>\n",
       "      <td>3040444.0</td>\n",
       "      <td>0.2019</td>\n",
       "    </tr>\n",
       "    <tr>\n",
       "      <th>5202</th>\n",
       "      <td>2020-11-26</td>\n",
       "      <td>RELIANCE</td>\n",
       "      <td>EQ</td>\n",
       "      <td>1947.80</td>\n",
       "      <td>1953.05</td>\n",
       "      <td>1965.00</td>\n",
       "      <td>1930.05</td>\n",
       "      <td>1957.00</td>\n",
       "      <td>1952.60</td>\n",
       "      <td>1946.67</td>\n",
       "      <td>11924527</td>\n",
       "      <td>2.321309e+15</td>\n",
       "      <td>266412.0</td>\n",
       "      <td>3406506.0</td>\n",
       "      <td>0.2857</td>\n",
       "    </tr>\n",
       "    <tr>\n",
       "      <th>5203</th>\n",
       "      <td>2020-11-27</td>\n",
       "      <td>RELIANCE</td>\n",
       "      <td>EQ</td>\n",
       "      <td>1952.60</td>\n",
       "      <td>1940.50</td>\n",
       "      <td>1956.10</td>\n",
       "      <td>1921.40</td>\n",
       "      <td>1940.50</td>\n",
       "      <td>1929.80</td>\n",
       "      <td>1935.45</td>\n",
       "      <td>21845931</td>\n",
       "      <td>4.228164e+15</td>\n",
       "      <td>314085.0</td>\n",
       "      <td>12489338.0</td>\n",
       "      <td>0.5717</td>\n",
       "    </tr>\n",
       "  </tbody>\n",
       "</table>\n",
       "<p>2354 rows × 15 columns</p>\n",
       "</div>"
      ],
      "text/plain": [
       "            Date    Symbol Series  Prev Close     Open     High      Low  \\\n",
       "2850  2011-06-01  RELIANCE     EQ      951.85   952.00   958.65   943.65   \n",
       "2851  2011-06-02  RELIANCE     EQ      946.80   936.55   954.70   936.55   \n",
       "2852  2011-06-03  RELIANCE     EQ      951.05   960.50   967.00   931.50   \n",
       "2853  2011-06-06  RELIANCE     EQ      934.60   934.65   940.80   928.15   \n",
       "2854  2011-06-07  RELIANCE     EQ      937.75   933.55   960.00   933.55   \n",
       "...          ...       ...    ...         ...      ...      ...      ...   \n",
       "5199  2020-11-23  RELIANCE     EQ     1899.50  1951.00  1970.00  1926.25   \n",
       "5200  2020-11-24  RELIANCE     EQ     1950.70  1964.00  1974.00  1932.00   \n",
       "5201  2020-11-25  RELIANCE     EQ     1964.05  1980.00  1992.95  1942.20   \n",
       "5202  2020-11-26  RELIANCE     EQ     1947.80  1953.05  1965.00  1930.05   \n",
       "5203  2020-11-27  RELIANCE     EQ     1952.60  1940.50  1956.10  1921.40   \n",
       "\n",
       "         Last    Close     VWAP    Volume      Turnover    Trades  \\\n",
       "2850   947.50   946.80   947.83   1838452  1.742538e+14   58630.0   \n",
       "2851   952.50   951.05   947.09   2152963  2.039039e+14   63061.0   \n",
       "2852   936.00   934.60   951.69   4368279  4.157238e+14  128784.0   \n",
       "2853   938.60   937.75   935.29   1405741  1.314771e+14   43384.0   \n",
       "2854   959.60   958.25   950.55   4025919  3.826839e+14   88703.0   \n",
       "...       ...      ...      ...       ...           ...       ...   \n",
       "5199  1955.20  1950.70  1952.18  20918665  4.083704e+15  497781.0   \n",
       "5200  1971.05  1964.05  1952.11  14277083  2.787044e+15  362587.0   \n",
       "5201  1947.50  1947.80  1969.06  15062376  2.965874e+15  356793.0   \n",
       "5202  1957.00  1952.60  1946.67  11924527  2.321309e+15  266412.0   \n",
       "5203  1940.50  1929.80  1935.45  21845931  4.228164e+15  314085.0   \n",
       "\n",
       "      Deliverable Volume  %Deliverble  \n",
       "2850            901415.0       0.4903  \n",
       "2851           1066759.0       0.4955  \n",
       "2852           1035791.0       0.2371  \n",
       "2853            476631.0       0.3391  \n",
       "2854           2424958.0       0.6023  \n",
       "...                  ...          ...  \n",
       "5199           5148955.0       0.2461  \n",
       "5200           3213843.0       0.2251  \n",
       "5201           3040444.0       0.2019  \n",
       "5202           3406506.0       0.2857  \n",
       "5203          12489338.0       0.5717  \n",
       "\n",
       "[2354 rows x 15 columns]"
      ]
     },
     "execution_count": 110,
     "metadata": {},
     "output_type": "execute_result"
    }
   ],
   "source": [
    "dataset.dropna(how='any',inplace=True)\n",
    "dataset"
   ]
  },
  {
   "cell_type": "code",
   "execution_count": 111,
   "metadata": {},
   "outputs": [
    {
     "data": {
      "text/plain": [
       "Index(['Date', 'Symbol', 'Series', 'Prev Close', 'Open', 'High', 'Low', 'Last',\n",
       "       'Close', 'VWAP', 'Volume', 'Turnover', 'Trades', 'Deliverable Volume',\n",
       "       '%Deliverble'],\n",
       "      dtype='object')"
      ]
     },
     "execution_count": 111,
     "metadata": {},
     "output_type": "execute_result"
    }
   ],
   "source": [
    "dataset.columns"
   ]
  },
  {
   "cell_type": "code",
   "execution_count": 112,
   "metadata": {},
   "outputs": [
    {
     "data": {
      "text/html": [
       "<div>\n",
       "<style scoped>\n",
       "    .dataframe tbody tr th:only-of-type {\n",
       "        vertical-align: middle;\n",
       "    }\n",
       "\n",
       "    .dataframe tbody tr th {\n",
       "        vertical-align: top;\n",
       "    }\n",
       "\n",
       "    .dataframe thead th {\n",
       "        text-align: right;\n",
       "    }\n",
       "</style>\n",
       "<table border=\"1\" class=\"dataframe\">\n",
       "  <thead>\n",
       "    <tr style=\"text-align: right;\">\n",
       "      <th></th>\n",
       "      <th>Prev Close</th>\n",
       "      <th>Open</th>\n",
       "      <th>High</th>\n",
       "      <th>Low</th>\n",
       "      <th>Last</th>\n",
       "      <th>Close</th>\n",
       "      <th>VWAP</th>\n",
       "      <th>Volume</th>\n",
       "      <th>Turnover</th>\n",
       "      <th>Trades</th>\n",
       "      <th>Deliverable Volume</th>\n",
       "    </tr>\n",
       "  </thead>\n",
       "  <tbody>\n",
       "    <tr>\n",
       "      <th>2850</th>\n",
       "      <td>951.85</td>\n",
       "      <td>952.00</td>\n",
       "      <td>958.65</td>\n",
       "      <td>943.65</td>\n",
       "      <td>947.50</td>\n",
       "      <td>946.80</td>\n",
       "      <td>947.83</td>\n",
       "      <td>1838452</td>\n",
       "      <td>1.742538e+14</td>\n",
       "      <td>58630.0</td>\n",
       "      <td>901415.0</td>\n",
       "    </tr>\n",
       "    <tr>\n",
       "      <th>2851</th>\n",
       "      <td>946.80</td>\n",
       "      <td>936.55</td>\n",
       "      <td>954.70</td>\n",
       "      <td>936.55</td>\n",
       "      <td>952.50</td>\n",
       "      <td>951.05</td>\n",
       "      <td>947.09</td>\n",
       "      <td>2152963</td>\n",
       "      <td>2.039039e+14</td>\n",
       "      <td>63061.0</td>\n",
       "      <td>1066759.0</td>\n",
       "    </tr>\n",
       "    <tr>\n",
       "      <th>2852</th>\n",
       "      <td>951.05</td>\n",
       "      <td>960.50</td>\n",
       "      <td>967.00</td>\n",
       "      <td>931.50</td>\n",
       "      <td>936.00</td>\n",
       "      <td>934.60</td>\n",
       "      <td>951.69</td>\n",
       "      <td>4368279</td>\n",
       "      <td>4.157238e+14</td>\n",
       "      <td>128784.0</td>\n",
       "      <td>1035791.0</td>\n",
       "    </tr>\n",
       "    <tr>\n",
       "      <th>2853</th>\n",
       "      <td>934.60</td>\n",
       "      <td>934.65</td>\n",
       "      <td>940.80</td>\n",
       "      <td>928.15</td>\n",
       "      <td>938.60</td>\n",
       "      <td>937.75</td>\n",
       "      <td>935.29</td>\n",
       "      <td>1405741</td>\n",
       "      <td>1.314771e+14</td>\n",
       "      <td>43384.0</td>\n",
       "      <td>476631.0</td>\n",
       "    </tr>\n",
       "    <tr>\n",
       "      <th>2854</th>\n",
       "      <td>937.75</td>\n",
       "      <td>933.55</td>\n",
       "      <td>960.00</td>\n",
       "      <td>933.55</td>\n",
       "      <td>959.60</td>\n",
       "      <td>958.25</td>\n",
       "      <td>950.55</td>\n",
       "      <td>4025919</td>\n",
       "      <td>3.826839e+14</td>\n",
       "      <td>88703.0</td>\n",
       "      <td>2424958.0</td>\n",
       "    </tr>\n",
       "    <tr>\n",
       "      <th>...</th>\n",
       "      <td>...</td>\n",
       "      <td>...</td>\n",
       "      <td>...</td>\n",
       "      <td>...</td>\n",
       "      <td>...</td>\n",
       "      <td>...</td>\n",
       "      <td>...</td>\n",
       "      <td>...</td>\n",
       "      <td>...</td>\n",
       "      <td>...</td>\n",
       "      <td>...</td>\n",
       "    </tr>\n",
       "    <tr>\n",
       "      <th>5199</th>\n",
       "      <td>1899.50</td>\n",
       "      <td>1951.00</td>\n",
       "      <td>1970.00</td>\n",
       "      <td>1926.25</td>\n",
       "      <td>1955.20</td>\n",
       "      <td>1950.70</td>\n",
       "      <td>1952.18</td>\n",
       "      <td>20918665</td>\n",
       "      <td>4.083704e+15</td>\n",
       "      <td>497781.0</td>\n",
       "      <td>5148955.0</td>\n",
       "    </tr>\n",
       "    <tr>\n",
       "      <th>5200</th>\n",
       "      <td>1950.70</td>\n",
       "      <td>1964.00</td>\n",
       "      <td>1974.00</td>\n",
       "      <td>1932.00</td>\n",
       "      <td>1971.05</td>\n",
       "      <td>1964.05</td>\n",
       "      <td>1952.11</td>\n",
       "      <td>14277083</td>\n",
       "      <td>2.787044e+15</td>\n",
       "      <td>362587.0</td>\n",
       "      <td>3213843.0</td>\n",
       "    </tr>\n",
       "    <tr>\n",
       "      <th>5201</th>\n",
       "      <td>1964.05</td>\n",
       "      <td>1980.00</td>\n",
       "      <td>1992.95</td>\n",
       "      <td>1942.20</td>\n",
       "      <td>1947.50</td>\n",
       "      <td>1947.80</td>\n",
       "      <td>1969.06</td>\n",
       "      <td>15062376</td>\n",
       "      <td>2.965874e+15</td>\n",
       "      <td>356793.0</td>\n",
       "      <td>3040444.0</td>\n",
       "    </tr>\n",
       "    <tr>\n",
       "      <th>5202</th>\n",
       "      <td>1947.80</td>\n",
       "      <td>1953.05</td>\n",
       "      <td>1965.00</td>\n",
       "      <td>1930.05</td>\n",
       "      <td>1957.00</td>\n",
       "      <td>1952.60</td>\n",
       "      <td>1946.67</td>\n",
       "      <td>11924527</td>\n",
       "      <td>2.321309e+15</td>\n",
       "      <td>266412.0</td>\n",
       "      <td>3406506.0</td>\n",
       "    </tr>\n",
       "    <tr>\n",
       "      <th>5203</th>\n",
       "      <td>1952.60</td>\n",
       "      <td>1940.50</td>\n",
       "      <td>1956.10</td>\n",
       "      <td>1921.40</td>\n",
       "      <td>1940.50</td>\n",
       "      <td>1929.80</td>\n",
       "      <td>1935.45</td>\n",
       "      <td>21845931</td>\n",
       "      <td>4.228164e+15</td>\n",
       "      <td>314085.0</td>\n",
       "      <td>12489338.0</td>\n",
       "    </tr>\n",
       "  </tbody>\n",
       "</table>\n",
       "<p>2354 rows × 11 columns</p>\n",
       "</div>"
      ],
      "text/plain": [
       "      Prev Close     Open     High      Low     Last    Close     VWAP  \\\n",
       "2850      951.85   952.00   958.65   943.65   947.50   946.80   947.83   \n",
       "2851      946.80   936.55   954.70   936.55   952.50   951.05   947.09   \n",
       "2852      951.05   960.50   967.00   931.50   936.00   934.60   951.69   \n",
       "2853      934.60   934.65   940.80   928.15   938.60   937.75   935.29   \n",
       "2854      937.75   933.55   960.00   933.55   959.60   958.25   950.55   \n",
       "...          ...      ...      ...      ...      ...      ...      ...   \n",
       "5199     1899.50  1951.00  1970.00  1926.25  1955.20  1950.70  1952.18   \n",
       "5200     1950.70  1964.00  1974.00  1932.00  1971.05  1964.05  1952.11   \n",
       "5201     1964.05  1980.00  1992.95  1942.20  1947.50  1947.80  1969.06   \n",
       "5202     1947.80  1953.05  1965.00  1930.05  1957.00  1952.60  1946.67   \n",
       "5203     1952.60  1940.50  1956.10  1921.40  1940.50  1929.80  1935.45   \n",
       "\n",
       "        Volume      Turnover    Trades  Deliverable Volume  \n",
       "2850   1838452  1.742538e+14   58630.0            901415.0  \n",
       "2851   2152963  2.039039e+14   63061.0           1066759.0  \n",
       "2852   4368279  4.157238e+14  128784.0           1035791.0  \n",
       "2853   1405741  1.314771e+14   43384.0            476631.0  \n",
       "2854   4025919  3.826839e+14   88703.0           2424958.0  \n",
       "...        ...           ...       ...                 ...  \n",
       "5199  20918665  4.083704e+15  497781.0           5148955.0  \n",
       "5200  14277083  2.787044e+15  362587.0           3213843.0  \n",
       "5201  15062376  2.965874e+15  356793.0           3040444.0  \n",
       "5202  11924527  2.321309e+15  266412.0           3406506.0  \n",
       "5203  21845931  4.228164e+15  314085.0          12489338.0  \n",
       "\n",
       "[2354 rows x 11 columns]"
      ]
     },
     "execution_count": 112,
     "metadata": {},
     "output_type": "execute_result"
    }
   ],
   "source": [
    "to_drop = ['Date', 'Symbol', 'Series','%Deliverble']\n",
    "dataset = dataset.drop(columns = to_drop)\n",
    "dataset"
   ]
  },
  {
   "cell_type": "markdown",
   "metadata": {},
   "source": [
    "## input features and target"
   ]
  },
  {
   "cell_type": "code",
   "execution_count": 113,
   "metadata": {},
   "outputs": [
    {
     "data": {
      "text/plain": [
       "Index(['Prev Close', 'Open', 'High', 'Low', 'Last', 'Close', 'VWAP', 'Volume',\n",
       "       'Turnover', 'Trades', 'Deliverable Volume'],\n",
       "      dtype='object')"
      ]
     },
     "execution_count": 113,
     "metadata": {},
     "output_type": "execute_result"
    }
   ],
   "source": [
    "dataset.columns"
   ]
  },
  {
   "cell_type": "code",
   "execution_count": 114,
   "metadata": {},
   "outputs": [
    {
     "data": {
      "text/html": [
       "<div>\n",
       "<style scoped>\n",
       "    .dataframe tbody tr th:only-of-type {\n",
       "        vertical-align: middle;\n",
       "    }\n",
       "\n",
       "    .dataframe tbody tr th {\n",
       "        vertical-align: top;\n",
       "    }\n",
       "\n",
       "    .dataframe thead th {\n",
       "        text-align: right;\n",
       "    }\n",
       "</style>\n",
       "<table border=\"1\" class=\"dataframe\">\n",
       "  <thead>\n",
       "    <tr style=\"text-align: right;\">\n",
       "      <th></th>\n",
       "      <th>VWAP</th>\n",
       "    </tr>\n",
       "  </thead>\n",
       "  <tbody>\n",
       "    <tr>\n",
       "      <th>2850</th>\n",
       "      <td>947.83</td>\n",
       "    </tr>\n",
       "    <tr>\n",
       "      <th>2851</th>\n",
       "      <td>947.09</td>\n",
       "    </tr>\n",
       "    <tr>\n",
       "      <th>2852</th>\n",
       "      <td>951.69</td>\n",
       "    </tr>\n",
       "    <tr>\n",
       "      <th>2853</th>\n",
       "      <td>935.29</td>\n",
       "    </tr>\n",
       "    <tr>\n",
       "      <th>2854</th>\n",
       "      <td>950.55</td>\n",
       "    </tr>\n",
       "    <tr>\n",
       "      <th>...</th>\n",
       "      <td>...</td>\n",
       "    </tr>\n",
       "    <tr>\n",
       "      <th>5199</th>\n",
       "      <td>1952.18</td>\n",
       "    </tr>\n",
       "    <tr>\n",
       "      <th>5200</th>\n",
       "      <td>1952.11</td>\n",
       "    </tr>\n",
       "    <tr>\n",
       "      <th>5201</th>\n",
       "      <td>1969.06</td>\n",
       "    </tr>\n",
       "    <tr>\n",
       "      <th>5202</th>\n",
       "      <td>1946.67</td>\n",
       "    </tr>\n",
       "    <tr>\n",
       "      <th>5203</th>\n",
       "      <td>1935.45</td>\n",
       "    </tr>\n",
       "  </tbody>\n",
       "</table>\n",
       "<p>2354 rows × 1 columns</p>\n",
       "</div>"
      ],
      "text/plain": [
       "         VWAP\n",
       "2850   947.83\n",
       "2851   947.09\n",
       "2852   951.69\n",
       "2853   935.29\n",
       "2854   950.55\n",
       "...       ...\n",
       "5199  1952.18\n",
       "5200  1952.11\n",
       "5201  1969.06\n",
       "5202  1946.67\n",
       "5203  1935.45\n",
       "\n",
       "[2354 rows x 1 columns]"
      ]
     },
     "execution_count": 114,
     "metadata": {},
     "output_type": "execute_result"
    }
   ],
   "source": [
    "target = ['VWAP']\n",
    "Y = dataset[target]\n",
    "Y"
   ]
  },
  {
   "cell_type": "code",
   "execution_count": 115,
   "metadata": {},
   "outputs": [
    {
     "data": {
      "text/html": [
       "<div>\n",
       "<style scoped>\n",
       "    .dataframe tbody tr th:only-of-type {\n",
       "        vertical-align: middle;\n",
       "    }\n",
       "\n",
       "    .dataframe tbody tr th {\n",
       "        vertical-align: top;\n",
       "    }\n",
       "\n",
       "    .dataframe thead th {\n",
       "        text-align: right;\n",
       "    }\n",
       "</style>\n",
       "<table border=\"1\" class=\"dataframe\">\n",
       "  <thead>\n",
       "    <tr style=\"text-align: right;\">\n",
       "      <th></th>\n",
       "      <th>Prev Close</th>\n",
       "      <th>Open</th>\n",
       "      <th>High</th>\n",
       "      <th>Low</th>\n",
       "      <th>Last</th>\n",
       "      <th>Close</th>\n",
       "      <th>Volume</th>\n",
       "      <th>Turnover</th>\n",
       "      <th>Trades</th>\n",
       "    </tr>\n",
       "  </thead>\n",
       "  <tbody>\n",
       "    <tr>\n",
       "      <th>2850</th>\n",
       "      <td>951.85</td>\n",
       "      <td>952.00</td>\n",
       "      <td>958.65</td>\n",
       "      <td>943.65</td>\n",
       "      <td>947.50</td>\n",
       "      <td>946.80</td>\n",
       "      <td>1838452</td>\n",
       "      <td>1.742538e+14</td>\n",
       "      <td>58630.0</td>\n",
       "    </tr>\n",
       "    <tr>\n",
       "      <th>2851</th>\n",
       "      <td>946.80</td>\n",
       "      <td>936.55</td>\n",
       "      <td>954.70</td>\n",
       "      <td>936.55</td>\n",
       "      <td>952.50</td>\n",
       "      <td>951.05</td>\n",
       "      <td>2152963</td>\n",
       "      <td>2.039039e+14</td>\n",
       "      <td>63061.0</td>\n",
       "    </tr>\n",
       "    <tr>\n",
       "      <th>2852</th>\n",
       "      <td>951.05</td>\n",
       "      <td>960.50</td>\n",
       "      <td>967.00</td>\n",
       "      <td>931.50</td>\n",
       "      <td>936.00</td>\n",
       "      <td>934.60</td>\n",
       "      <td>4368279</td>\n",
       "      <td>4.157238e+14</td>\n",
       "      <td>128784.0</td>\n",
       "    </tr>\n",
       "    <tr>\n",
       "      <th>2853</th>\n",
       "      <td>934.60</td>\n",
       "      <td>934.65</td>\n",
       "      <td>940.80</td>\n",
       "      <td>928.15</td>\n",
       "      <td>938.60</td>\n",
       "      <td>937.75</td>\n",
       "      <td>1405741</td>\n",
       "      <td>1.314771e+14</td>\n",
       "      <td>43384.0</td>\n",
       "    </tr>\n",
       "    <tr>\n",
       "      <th>2854</th>\n",
       "      <td>937.75</td>\n",
       "      <td>933.55</td>\n",
       "      <td>960.00</td>\n",
       "      <td>933.55</td>\n",
       "      <td>959.60</td>\n",
       "      <td>958.25</td>\n",
       "      <td>4025919</td>\n",
       "      <td>3.826839e+14</td>\n",
       "      <td>88703.0</td>\n",
       "    </tr>\n",
       "    <tr>\n",
       "      <th>...</th>\n",
       "      <td>...</td>\n",
       "      <td>...</td>\n",
       "      <td>...</td>\n",
       "      <td>...</td>\n",
       "      <td>...</td>\n",
       "      <td>...</td>\n",
       "      <td>...</td>\n",
       "      <td>...</td>\n",
       "      <td>...</td>\n",
       "    </tr>\n",
       "    <tr>\n",
       "      <th>5199</th>\n",
       "      <td>1899.50</td>\n",
       "      <td>1951.00</td>\n",
       "      <td>1970.00</td>\n",
       "      <td>1926.25</td>\n",
       "      <td>1955.20</td>\n",
       "      <td>1950.70</td>\n",
       "      <td>20918665</td>\n",
       "      <td>4.083704e+15</td>\n",
       "      <td>497781.0</td>\n",
       "    </tr>\n",
       "    <tr>\n",
       "      <th>5200</th>\n",
       "      <td>1950.70</td>\n",
       "      <td>1964.00</td>\n",
       "      <td>1974.00</td>\n",
       "      <td>1932.00</td>\n",
       "      <td>1971.05</td>\n",
       "      <td>1964.05</td>\n",
       "      <td>14277083</td>\n",
       "      <td>2.787044e+15</td>\n",
       "      <td>362587.0</td>\n",
       "    </tr>\n",
       "    <tr>\n",
       "      <th>5201</th>\n",
       "      <td>1964.05</td>\n",
       "      <td>1980.00</td>\n",
       "      <td>1992.95</td>\n",
       "      <td>1942.20</td>\n",
       "      <td>1947.50</td>\n",
       "      <td>1947.80</td>\n",
       "      <td>15062376</td>\n",
       "      <td>2.965874e+15</td>\n",
       "      <td>356793.0</td>\n",
       "    </tr>\n",
       "    <tr>\n",
       "      <th>5202</th>\n",
       "      <td>1947.80</td>\n",
       "      <td>1953.05</td>\n",
       "      <td>1965.00</td>\n",
       "      <td>1930.05</td>\n",
       "      <td>1957.00</td>\n",
       "      <td>1952.60</td>\n",
       "      <td>11924527</td>\n",
       "      <td>2.321309e+15</td>\n",
       "      <td>266412.0</td>\n",
       "    </tr>\n",
       "    <tr>\n",
       "      <th>5203</th>\n",
       "      <td>1952.60</td>\n",
       "      <td>1940.50</td>\n",
       "      <td>1956.10</td>\n",
       "      <td>1921.40</td>\n",
       "      <td>1940.50</td>\n",
       "      <td>1929.80</td>\n",
       "      <td>21845931</td>\n",
       "      <td>4.228164e+15</td>\n",
       "      <td>314085.0</td>\n",
       "    </tr>\n",
       "  </tbody>\n",
       "</table>\n",
       "<p>2354 rows × 9 columns</p>\n",
       "</div>"
      ],
      "text/plain": [
       "      Prev Close     Open     High      Low     Last    Close    Volume  \\\n",
       "2850      951.85   952.00   958.65   943.65   947.50   946.80   1838452   \n",
       "2851      946.80   936.55   954.70   936.55   952.50   951.05   2152963   \n",
       "2852      951.05   960.50   967.00   931.50   936.00   934.60   4368279   \n",
       "2853      934.60   934.65   940.80   928.15   938.60   937.75   1405741   \n",
       "2854      937.75   933.55   960.00   933.55   959.60   958.25   4025919   \n",
       "...          ...      ...      ...      ...      ...      ...       ...   \n",
       "5199     1899.50  1951.00  1970.00  1926.25  1955.20  1950.70  20918665   \n",
       "5200     1950.70  1964.00  1974.00  1932.00  1971.05  1964.05  14277083   \n",
       "5201     1964.05  1980.00  1992.95  1942.20  1947.50  1947.80  15062376   \n",
       "5202     1947.80  1953.05  1965.00  1930.05  1957.00  1952.60  11924527   \n",
       "5203     1952.60  1940.50  1956.10  1921.40  1940.50  1929.80  21845931   \n",
       "\n",
       "          Turnover    Trades  \n",
       "2850  1.742538e+14   58630.0  \n",
       "2851  2.039039e+14   63061.0  \n",
       "2852  4.157238e+14  128784.0  \n",
       "2853  1.314771e+14   43384.0  \n",
       "2854  3.826839e+14   88703.0  \n",
       "...            ...       ...  \n",
       "5199  4.083704e+15  497781.0  \n",
       "5200  2.787044e+15  362587.0  \n",
       "5201  2.965874e+15  356793.0  \n",
       "5202  2.321309e+15  266412.0  \n",
       "5203  4.228164e+15  314085.0  \n",
       "\n",
       "[2354 rows x 9 columns]"
      ]
     },
     "execution_count": 115,
     "metadata": {},
     "output_type": "execute_result"
    }
   ],
   "source": [
    "X = dataset.drop(columns = ['VWAP','Deliverable Volume'])\n",
    "X"
   ]
  },
  {
   "cell_type": "code",
   "execution_count": 116,
   "metadata": {},
   "outputs": [
    {
     "data": {
      "image/png": "[encoded data removed]",
      "text/plain": [
       "<Figure size 504x360 with 1 Axes>"
      ]
     },
     "metadata": {
      "needs_background": "light"
     },
     "output_type": "display_data"
    },
    {
     "data": {
      "image/png": "[encoded data removed]",
      "text/plain": [
       "<Figure size 504x360 with 1 Axes>"
      ]
     },
     "metadata": {
      "needs_background": "light"
     },
     "output_type": "display_data"
    },
    {
     "data": {
      "image/png": "[encoded data removed]",
      "text/plain": [
       "<Figure size 504x360 with 1 Axes>"
      ]
     },
     "metadata": {
      "needs_background": "light"
     },
     "output_type": "display_data"
    },
    {
     "data": {
      "image/png": "[encoded data removed]",
      "text/plain": [
       "<Figure size 504x360 with 1 Axes>"
      ]
     },
     "metadata": {
      "needs_background": "light"
     },
     "output_type": "display_data"
    },
    {
     "data": {
      "image/png": "[encoded data removed]",
      "text/plain": [
       "<Figure size 504x360 with 1 Axes>"
      ]
     },
     "metadata": {
      "needs_background": "light"
     },
     "output_type": "display_data"
    },
    {
     "data": {
      "image/png": "[encoded data removed]",
      "text/plain": [
       "<Figure size 504x360 with 1 Axes>"
      ]
     },
     "metadata": {
      "needs_background": "light"
     },
     "output_type": "display_data"
    },
    {
     "data": {
      "image/png": "[encoded data removed]",
      "text/plain": [
       "<Figure size 504x360 with 1 Axes>"
      ]
     },
     "metadata": {
      "needs_background": "light"
     },
     "output_type": "display_data"
    },
    {
     "data": {
      "image/png": "[encoded data removed]",
      "text/plain": [
       "<Figure size 504x360 with 1 Axes>"
      ]
     },
     "metadata": {
      "needs_background": "light"
     },
     "output_type": "display_data"
    },
    {
     "data": {
      "image/png": "[encoded data removed]",
      "text/plain": [
       "<Figure size 504x360 with 1 Axes>"
      ]
     },
     "metadata": {
      "needs_background": "light"
     },
     "output_type": "display_data"
    }
   ],
   "source": [
    "for feature_name in X:\n",
    "    plt.figure(figsize=(7,5))\n",
    "    plt.tight_layout()\n",
    "    plt.scatter(X[feature_name], Y)\n",
    "    plt.ylabel(target[0],size = 25)\n",
    "    plt.xlabel(feature_name, size = 25)\n",
    "    plt.show()"
   ]
  },
  {
   "cell_type": "code",
   "execution_count": 117,
   "metadata": {},
   "outputs": [
    {
     "data": {
      "text/plain": [
       "array([[9.51850000e+02, 9.52000000e+02, 9.58650000e+02, ...,\n",
       "        1.83845200e+06, 1.74253844e+14, 5.86300000e+04],\n",
       "       [9.46800000e+02, 9.36550000e+02, 9.54700000e+02, ...,\n",
       "        2.15296300e+06, 2.03903946e+14, 6.30610000e+04],\n",
       "       [9.51050000e+02, 9.60500000e+02, 9.67000000e+02, ...,\n",
       "        4.36827900e+06, 4.15723780e+14, 1.28784000e+05],\n",
       "       ...,\n",
       "       [1.96405000e+03, 1.98000000e+03, 1.99295000e+03, ...,\n",
       "        1.50623760e+07, 2.96587440e+15, 3.56793000e+05],\n",
       "       [1.94780000e+03, 1.95305000e+03, 1.96500000e+03, ...,\n",
       "        1.19245270e+07, 2.32130947e+15, 2.66412000e+05],\n",
       "       [1.95260000e+03, 1.94050000e+03, 1.95610000e+03, ...,\n",
       "        2.18459310e+07, 4.22816376e+15, 3.14085000e+05]])"
      ]
     },
     "execution_count": 117,
     "metadata": {},
     "output_type": "execute_result"
    }
   ],
   "source": [
    "X = np.array(X)\n",
    "X"
   ]
  },
  {
   "cell_type": "code",
   "execution_count": 134,
   "metadata": {},
   "outputs": [
    {
     "data": {
      "text/plain": [
       "array([[   0],\n",
       "       [   1],\n",
       "       [   2],\n",
       "       ...,\n",
       "       [2351],\n",
       "       [2352],\n",
       "       [2353]])"
      ]
     },
     "execution_count": 134,
     "metadata": {},
     "output_type": "execute_result"
    }
   ],
   "source": [
    "#creating a 2D array to convert time series data to index\n",
    "X_new = []\n",
    "for i in range(2354):\n",
    "    temp=[]\n",
    "    for j in range(1): \n",
    "        temp.append(i)\n",
    "    X_new.append(temp)\n",
    "X=np.array(X_new)\n",
    "X"
   ]
  },
  {
   "cell_type": "code",
   "execution_count": 135,
   "metadata": {},
   "outputs": [
    {
     "data": {
      "text/plain": [
       "array([[ 947.83],\n",
       "       [ 947.09],\n",
       "       [ 951.69],\n",
       "       ...,\n",
       "       [1969.06],\n",
       "       [1946.67],\n",
       "       [1935.45]])"
      ]
     },
     "execution_count": 135,
     "metadata": {},
     "output_type": "execute_result"
    }
   ],
   "source": [
    "Y = np.array(Y)\n",
    "Y"
   ]
  },
  {
   "cell_type": "code",
   "execution_count": 136,
   "metadata": {},
   "outputs": [],
   "source": [
    "from sklearn.model_selection import train_test_split\n",
    "\n",
    "X_train, X_test, Y_train, Y_test = train_test_split(X, Y, test_size=0.20)"
   ]
  },
  {
   "cell_type": "code",
   "execution_count": 137,
   "metadata": {},
   "outputs": [],
   "source": [
    "from sklearn.preprocessing import StandardScaler\n",
    "\n",
    "sc = StandardScaler()\n",
    "X_train_scaled = sc.fit_transform(X_train)\n",
    "X_test_scaled = sc.transform(X_test)"
   ]
  },
  {
   "cell_type": "markdown",
   "metadata": {},
   "source": [
    "# linear regression"
   ]
  },
  {
   "cell_type": "code",
   "execution_count": 138,
   "metadata": {},
   "outputs": [
    {
     "data": {
      "text/plain": [
       "0.5958003024835541"
      ]
     },
     "execution_count": 138,
     "metadata": {},
     "output_type": "execute_result"
    }
   ],
   "source": [
    "from sklearn.linear_model import LinearRegression\n",
    "\n",
    "classification_obj = LinearRegression()\n",
    "classification_obj.fit(X_train_scaled, Y_train)\n",
    "classification_obj.score(X_train_scaled, Y_train)"
   ]
  },
  {
   "cell_type": "code",
   "execution_count": 139,
   "metadata": {},
   "outputs": [
    {
     "data": {
      "text/plain": [
       "-1035147.1336617785"
      ]
     },
     "execution_count": 139,
     "metadata": {},
     "output_type": "execute_result"
    }
   ],
   "source": [
    "classification_obj.score(X_test, Y_test)"
   ]
  },
  {
   "cell_type": "code",
   "execution_count": 140,
   "metadata": {},
   "outputs": [
    {
     "data": {
      "text/plain": [
       "array([[239.39171942]])"
      ]
     },
     "execution_count": 140,
     "metadata": {},
     "output_type": "execute_result"
    }
   ],
   "source": [
    "classification_obj.coef_"
   ]
  },
  {
   "cell_type": "code",
   "execution_count": 141,
   "metadata": {},
   "outputs": [
    {
     "data": {
      "text/plain": [
       "array([1063.99883696])"
      ]
     },
     "execution_count": 141,
     "metadata": {},
     "output_type": "execute_result"
    }
   ],
   "source": [
    "classification_obj.intercept_"
   ]
  },
  {
   "cell_type": "code",
   "execution_count": 143,
   "metadata": {},
   "outputs": [
    {
     "data": {
      "text/plain": [
       "array([[1063.99883696],\n",
       "       [1303.39055638],\n",
       "       [1542.7822758 ],\n",
       "       [1782.17399521],\n",
       "       [2021.56571463]])"
      ]
     },
     "execution_count": 143,
     "metadata": {},
     "output_type": "execute_result"
    }
   ],
   "source": [
    "classification_obj.predict(X)[0:5]\n",
    "#first five predictions"
   ]
  },
  {
   "cell_type": "markdown",
   "metadata": {},
   "source": [
    "We can clearly see the predicted values are of no use as the index increases."
   ]
  },
  {
   "cell_type": "code",
   "execution_count": 155,
   "metadata": {},
   "outputs": [
    {
     "data": {
      "text/plain": [
       "[<matplotlib.lines.Line2D at 0x29d1de487f0>]"
      ]
     },
     "execution_count": 155,
     "metadata": {},
     "output_type": "execute_result"
    },
    {
     "data": {
      "image/png": "[encoded data removed]",
      "text/plain": [
       "<Figure size 432x288 with 1 Axes>"
      ]
     },
     "metadata": {
      "needs_background": "light"
     },
     "output_type": "display_data"
    }
   ],
   "source": [
    "import matplotlib.pyplot as plt\n",
    "Y_pred = classification_obj.predict(X_test_scaled)\n",
    "plt.scatter(X_test, Y_test, color ='b')\n",
    "plt.plot(X_test, Y_pred, color ='k')"
   ]
  }
 ],
 "metadata": {
  "kernelspec": {
   "display_name": "Python 3",
   "language": "python",
   "name": "python3"
  },
  "language_info": {
   "codemirror_mode": {
    "name": "ipython",
    "version": 3
   },
   "file_extension": ".py",
   "mimetype": "text/x-python",
   "name": "python",
   "nbconvert_exporter": "python",
   "pygments_lexer": "ipython3",
   "version": "3.8.1"
  }
 },
 "nbformat": 4,
 "nbformat_minor": 4
}
